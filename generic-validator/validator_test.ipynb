{
 "cells": [
  {
   "cell_type": "markdown",
   "metadata": {},
   "source": [
    "# OSI Validator\n",
    "\n",
    "## Importation of data\n",
    "\n",
    "Only once to be faster on development"
   ]
  },
  {
   "cell_type": "code",
   "execution_count": null,
   "metadata": {},
   "outputs": [],
   "source": [
    "from osi_data_container import OsiDataContainer\n",
    "odc = OsiDataContainer()\n",
    "odc.from_file('/home/aina/Desktop/overtake_right_straight_SensorView.txt', \"SensorView\")\n",
    "sv = odc.data[0]"
   ]
  },
  {
   "cell_type": "markdown",
   "metadata": {},
   "source": [
    "Auto reload of the modules"
   ]
  },
  {
   "cell_type": "code",
   "execution_count": null,
   "metadata": {},
   "outputs": [],
   "source": [
    "%load_ext autoreload\n",
    "%autoreload 2"
   ]
  },
  {
   "cell_type": "markdown",
   "metadata": {},
   "source": [
    "## Logging module"
   ]
  },
  {
   "cell_type": "code",
   "execution_count": null,
   "metadata": {},
   "outputs": [],
   "source": [
    "from osi_validator_logger import OSIValidatorLogger\n",
    "logger = OSIValidatorLogger()"
   ]
  },
  {
   "cell_type": "markdown",
   "metadata": {},
   "source": [
    "## OSI ID Manager\n",
    "\n",
    "This module manage the ID, check the unicity and the consistency of the references in the messages"
   ]
  },
  {
   "cell_type": "code",
   "execution_count": null,
   "metadata": {
    "scrolled": true
   },
   "outputs": [],
   "source": [
    "from osi_id_manager import OSIIDManager\n",
    "oim = OSIIDManager(logger)"
   ]
  },
  {
   "cell_type": "code",
   "execution_count": null,
   "metadata": {
    "scrolled": true
   },
   "outputs": [],
   "source": [
    "from osi_rule_checker import OsiRuleChecker\n",
    "from osi_validation_rules import OsiValidationRules\n",
    "from collections import namedtuple\n",
    "\n",
    "ovr = OsiValidationRules(logger, oim)\n",
    "ovr.from_yaml_directory('requirements-osi-3')\n",
    "\n",
    "fake_field_descriptor = namedtuple('fake_field_descriptor',['name']) \n",
    "fake_field_descriptor.name = \"SensorView\"\n",
    "ovr.check_message([(fake_field_descriptor, sv)], ovr._rules['SensorView'])"
   ]
  },
  {
   "cell_type": "markdown",
   "metadata": {},
   "source": [
    "## Flush the output"
   ]
  },
  {
   "cell_type": "code",
   "execution_count": null,
   "metadata": {},
   "outputs": [],
   "source": [
    "logger.flush()"
   ]
  }
 ],
 "metadata": {
  "kernelspec": {
   "display_name": "Python 3",
   "language": "python",
   "name": "python3"
  },
  "language_info": {
   "codemirror_mode": {
    "name": "ipython",
    "version": 3
   },
   "file_extension": ".py",
   "mimetype": "text/x-python",
   "name": "python",
   "nbconvert_exporter": "python",
   "pygments_lexer": "ipython3",
   "version": "3.7.3"
  }
 },
 "nbformat": 4,
 "nbformat_minor": 2
}
