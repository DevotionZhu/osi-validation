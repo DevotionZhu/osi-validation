{
 "cells": [
  {
   "cell_type": "code",
   "execution_count": 1,
   "metadata": {},
   "outputs": [
    {
     "name": "stdout",
     "output_type": "stream",
     "text": [
      "Data file /home/aina/Desktop/overtake_right_straight_SensorView.txt contained 1479 timestamps.\n"
     ]
    }
   ],
   "source": [
    "from osi_data_container import OsiDataContainer\n",
    "odc = OsiDataContainer()\n",
    "odc.from_file('/home/aina/Desktop/overtake_right_straight_SensorView.txt')\n",
    "\n",
    "mo = odc.data[0].global_ground_truth.moving_object[0]\n",
    "sv = odc.data[0]"
   ]
  },
  {
   "cell_type": "code",
   "execution_count": 2,
   "metadata": {},
   "outputs": [],
   "source": [
    "%load_ext autoreload\n",
    "%autoreload 2"
   ]
  },
  {
   "cell_type": "code",
   "execution_count": 26,
   "metadata": {
    "scrolled": false
   },
   "outputs": [
    {
     "name": "stderr",
     "output_type": "stream",
     "text": [
      "DEBUG:id is set as expected\n",
      "DEBUG:Check the rule is_set for [<class 'osi3.osi_object_pb2.MovingObject'>, <class 'osi3.osi_common_pb2.Identifier'>]\n",
      "DEBUG:Check the rule is_valid for Identifier\n",
      "DEBUG:Global type!\n",
      "DEBUG:Check the rule is_minimum for [<class 'osi3.osi_object_pb2.MovingObject'>, <class 'osi3.osi_common_pb2.Identifier'>, <class 'int'>]\n",
      "DEBUG:Check the rule is_global_unique for [<class 'osi3.osi_object_pb2.MovingObject'>, <class 'osi3.osi_common_pb2.Identifier'>]\n",
      "DEBUG:ID ok!\n",
      "DEBUG:Check the rule is_valid for [<class 'osi3.osi_object_pb2.MovingObject'>, <class 'osi3.osi_common_pb2.BaseMoving'>]\n",
      "DEBUG:Check the rule is_valid for BaseMoving\n",
      "WARNING:The message type 'BaseMoving' has no rule\n",
      "DEBUG:Check the rule is_valid for [<class 'osi3.osi_object_pb2.MovingObject'>, <class 'google.protobuf.pyext._message.RepeatedCompositeContainer'>]\n",
      "DEBUG:Check the rule is_valid for a list of <class 'osi3.osi_common_pb2.Identifier'> in <class 'osi3.osi_object_pb2.MovingObject'>\n",
      "DEBUG:Check the rule is_valid for Identifier\n",
      "DEBUG:Global type!\n",
      "DEBUG:Check the rule is_minimum for [<class 'osi3.osi_object_pb2.MovingObject'>, <class 'google.protobuf.pyext._message.RepeatedCompositeContainer'>, <class 'osi3.osi_common_pb2.Identifier'>, <class 'int'>]\n",
      "DEBUG:Check the rule is_valid for [<class 'osi3.osi_object_pb2.MovingObject'>, <class 'osi3.osi_object_pb2.VehicleAttributes'>]\n",
      "DEBUG:Check the rule is_valid for VehicleAttributes\n",
      "WARNING:The message type 'VehicleAttributes' has no rule\n",
      "DEBUG:Check the rule is_valid for [<class 'osi3.osi_object_pb2.MovingObject'>, <class 'osi3.osi_object_pb2.VehicleClassification'>]\n",
      "DEBUG:Check the rule is_valid for VehicleClassification\n",
      "WARNING:The message type 'VehicleClassification' has no rule\n"
     ]
    },
    {
     "data": {
      "text/plain": [
       "{'SensorView': {'version': ['is_set'],\n",
       "  'timestamp': ['is_set'],\n",
       "  'sensor_id': [{'refers': ''}],\n",
       "  'mounting_position': ['is_set'],\n",
       "  'mounting_position_rmse': ['is_set'],\n",
       "  'host_vehicle_data': ['is_set'],\n",
       "  'global_ground_truth': ['is_set'],\n",
       "  'host_vehicle_id': ['is_set', {'refers': '$host_vehicle_id'}]},\n",
       " 'Identifier': {'value': [{'is_minimum': 0}]},\n",
       " 'MovingObject': {'id': ['is_set', 'is_global_unique'],\n",
       "  'base': ['is_valid'],\n",
       "  'assigned_lane_id': ['is_valid'],\n",
       "  'vehicle_attributes': ['is_valid'],\n",
       "  'vehicle_classification': ['is_valid']}}"
      ]
     },
     "metadata": {},
     "output_type": "display_data"
    }
   ],
   "source": [
    "from osi_rule_checker import OsiRuleChecker\n",
    "from osi_validation_rules import OsiValidationRules\n",
    "\n",
    "ovr = OsiValidationRules()\n",
    "ovr.from_yaml_directory('requirements-osi-3')\n",
    "\n",
    "\n",
    "ovr.check_message([mo], ovr._rules['MovingObject'])\n",
    "display(ovr._rules)\n",
    "#ovr.check_message([sv], ovr._rules['SensorView'])"
   ]
  },
  {
   "cell_type": "code",
   "execution_count": 4,
   "metadata": {},
   "outputs": [
    {
     "data": {
      "text/plain": [
       "[osi3.osi_object_pb2.MovingObject]"
      ]
     },
     "execution_count": 4,
     "metadata": {},
     "output_type": "execute_result"
    }
   ],
   "source": [
    "# saved ID\n",
    "list(map(type, ovr._identifiers[0]))"
   ]
  },
  {
   "cell_type": "code",
   "execution_count": 24,
   "metadata": {},
   "outputs": [
    {
     "name": "stdout",
     "output_type": "stream",
     "text": [
      "value: 0\n",
      "\n",
      "dimension {\n",
      "  length: 5.25\n",
      "  width: 1.9\n",
      "  height: 1.47\n",
      "}\n",
      "position {\n",
      "  x: 61.527777777777935\n",
      "  y: -15.25\n",
      "  z: 0.735\n",
      "}\n",
      "orientation {\n",
      "  roll: 0.0\n",
      "  pitch: 0.0\n",
      "  yaw: 0.0\n",
      "}\n",
      "velocity {\n",
      "  x: 27.777777777778187\n",
      "  y: 0.0\n",
      "  z: 0.0\n",
      "}\n",
      "acceleration {\n",
      "  x: 0.0\n",
      "  y: 0.0\n",
      "  z: 0.0\n",
      "}\n",
      "orientation_rate {\n",
      "  roll: 0.0\n",
      "  pitch: 0.0\n",
      "  yaw: 0.0\n",
      "}\n",
      "\n",
      "2\n",
      "[value: 4\n",
      "]\n",
      "driver_id {\n",
      "  value: 0\n",
      "}\n",
      "radius_wheel: 0.0\n",
      "number_wheels: 0\n",
      "bbcenter_to_rear {\n",
      "  x: 0.0\n",
      "  y: 0.0\n",
      "  z: 0.0\n",
      "}\n",
      "bbcenter_to_front {\n",
      "  x: 0.0\n",
      "  y: 0.0\n",
      "  z: 0.0\n",
      "}\n",
      "ground_clearance: 0.0\n",
      "\n",
      "type: TYPE_SMALL_CAR\n",
      "light_state {\n",
      "  indicator_state: INDICATOR_STATE_OFF\n",
      "  front_fog_light: GENERIC_LIGHT_STATE_UNKNOWN\n",
      "  rear_fog_light: GENERIC_LIGHT_STATE_UNKNOWN\n",
      "  head_light: GENERIC_LIGHT_STATE_UNKNOWN\n",
      "  high_beam: GENERIC_LIGHT_STATE_UNKNOWN\n",
      "  reversing_light: GENERIC_LIGHT_STATE_UNKNOWN\n",
      "  brake_light_state: BRAKE_LIGHT_STATE_OFF\n",
      "  license_plate_illumination_rear: GENERIC_LIGHT_STATE_UNKNOWN\n",
      "}\n",
      "has_trailer: false\n",
      "trailer_id {\n",
      "  value: 0\n",
      "}\n",
      "\n"
     ]
    },
    {
     "ename": "AttributeError",
     "evalue": "'MovingObject' object has no attribute 'dimension'",
     "output_type": "error",
     "traceback": [
      "\u001b[0;31m---------------------------------------------------------------------------\u001b[0m",
      "\u001b[0;31mAttributeError\u001b[0m                            Traceback (most recent call last)",
      "\u001b[0;32m<ipython-input-24-8de1c1272a73>\u001b[0m in \u001b[0;36m<module>\u001b[0;34m\u001b[0m\n\u001b[1;32m      2\u001b[0m     \u001b[0mprint\u001b[0m\u001b[0;34m(\u001b[0m\u001b[0mvalue\u001b[0m\u001b[0;34m)\u001b[0m\u001b[0;34m\u001b[0m\u001b[0;34m\u001b[0m\u001b[0m\n\u001b[1;32m      3\u001b[0m \u001b[0;34m\u001b[0m\u001b[0m\n\u001b[0;32m----> 4\u001b[0;31m \u001b[0mprint\u001b[0m\u001b[0;34m(\u001b[0m\u001b[0mmo\u001b[0m\u001b[0;34m.\u001b[0m\u001b[0mdimension\u001b[0m\u001b[0;34m.\u001b[0m\u001b[0mlabel\u001b[0m\u001b[0;34m)\u001b[0m\u001b[0;34m\u001b[0m\u001b[0;34m\u001b[0m\u001b[0m\n\u001b[0m",
      "\u001b[0;31mAttributeError\u001b[0m: 'MovingObject' object has no attribute 'dimension'"
     ]
    }
   ],
   "source": [
    "for desc, value in mo.ListFields():\n",
    "    print(value)\n",
    "    \n",
    "print(mo.dimension.label)"
   ]
  }
 ],
 "metadata": {
  "kernelspec": {
   "display_name": "Python 3",
   "language": "python",
   "name": "python3"
  },
  "language_info": {
   "codemirror_mode": {
    "name": "ipython",
    "version": 3
   },
   "file_extension": ".py",
   "mimetype": "text/x-python",
   "name": "python",
   "nbconvert_exporter": "python",
   "pygments_lexer": "ipython3",
   "version": "3.7.2"
  }
 },
 "nbformat": 4,
 "nbformat_minor": 2
}
