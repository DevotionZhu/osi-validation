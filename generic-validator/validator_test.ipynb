{
 "cells": [
  {
   "cell_type": "code",
   "execution_count": 1,
   "metadata": {},
   "outputs": [
    {
     "name": "stdout",
     "output_type": "stream",
     "text": [
      "Data file /home/aina/Desktop/overtake_right_straight_SensorView.txt contained 1479 timestamps.\n"
     ]
    },
    {
     "data": {
      "text/plain": [
       "id {\n",
       "  value: 0\n",
       "}\n",
       "base {\n",
       "  dimension {\n",
       "    length: 5.25\n",
       "    width: 1.9\n",
       "    height: 1.47\n",
       "  }\n",
       "  position {\n",
       "    x: 61.527777777777935\n",
       "    y: -15.25\n",
       "    z: 0.735\n",
       "  }\n",
       "  orientation {\n",
       "    roll: 0.0\n",
       "    pitch: 0.0\n",
       "    yaw: 0.0\n",
       "  }\n",
       "  velocity {\n",
       "    x: 27.777777777778187\n",
       "    y: 0.0\n",
       "    z: 0.0\n",
       "  }\n",
       "  acceleration {\n",
       "    x: 0.0\n",
       "    y: 0.0\n",
       "    z: 0.0\n",
       "  }\n",
       "  orientation_rate {\n",
       "    roll: 0.0\n",
       "    pitch: 0.0\n",
       "    yaw: 0.0\n",
       "  }\n",
       "}\n",
       "type: TYPE_VEHICLE\n",
       "assigned_lane_id {\n",
       "  value: 4\n",
       "}\n",
       "vehicle_attributes {\n",
       "  driver_id {\n",
       "    value: 0\n",
       "  }\n",
       "  radius_wheel: 0.0\n",
       "  number_wheels: 0\n",
       "  bbcenter_to_rear {\n",
       "    x: 0.0\n",
       "    y: 0.0\n",
       "    z: 0.0\n",
       "  }\n",
       "  bbcenter_to_front {\n",
       "    x: 0.0\n",
       "    y: 0.0\n",
       "    z: 0.0\n",
       "  }\n",
       "  ground_clearance: 0.0\n",
       "}\n",
       "vehicle_classification {\n",
       "  type: TYPE_SMALL_CAR\n",
       "  light_state {\n",
       "    indicator_state: INDICATOR_STATE_OFF\n",
       "    front_fog_light: GENERIC_LIGHT_STATE_UNKNOWN\n",
       "    rear_fog_light: GENERIC_LIGHT_STATE_UNKNOWN\n",
       "    head_light: GENERIC_LIGHT_STATE_UNKNOWN\n",
       "    high_beam: GENERIC_LIGHT_STATE_UNKNOWN\n",
       "    reversing_light: GENERIC_LIGHT_STATE_UNKNOWN\n",
       "    brake_light_state: BRAKE_LIGHT_STATE_OFF\n",
       "    license_plate_illumination_rear: GENERIC_LIGHT_STATE_UNKNOWN\n",
       "  }\n",
       "  has_trailer: false\n",
       "  trailer_id {\n",
       "    value: 0\n",
       "  }\n",
       "}"
      ]
     },
     "execution_count": 1,
     "metadata": {},
     "output_type": "execute_result"
    }
   ],
   "source": [
    "from osi_data_container import OsiDataContainer\n",
    "odc = OsiDataContainer()\n",
    "odc.from_file('/home/aina/Desktop/overtake_right_straight_SensorView.txt')\n",
    "\n",
    "mo = odc.data[0].global_ground_truth.moving_object[0]\n",
    "mo"
   ]
  },
  {
   "cell_type": "code",
   "execution_count": 2,
   "metadata": {},
   "outputs": [],
   "source": [
    "%load_ext autoreload\n",
    "%autoreload 2"
   ]
  },
  {
   "cell_type": "code",
   "execution_count": 19,
   "metadata": {
    "scrolled": false
   },
   "outputs": [
    {
     "data": {
      "text/plain": [
       "{'TrafficSignValue': {'value': ['is-set'],\n",
       "  'value_unit': ['is-set'],\n",
       "  'Unit': ['is-defined']},\n",
       " 'TrafficSign': {'id': ['is-valid',\n",
       "   {'is-minimum': 0},\n",
       "   {'is-maximum': [12, 3]}],\n",
       "  'main_sign': ['is-valid'],\n",
       "  'supplementary_sign': ['is-valid'],\n",
       "  'MainSign': {'base': ['is-valid'],\n",
       "   'classification': ['is-valid'],\n",
       "   'Classification': {'variability': ['is-set']}}},\n",
       " 'Identifier': {'value': [{'is_minimum': 0}]},\n",
       " 'MovingObject': {'id': ['is_global_unique'],\n",
       "  'base': ['is_valid'],\n",
       "  'assigned_lane_id': ['is_valid'],\n",
       "  'vehicle_attributes': ['is_valid'],\n",
       "  'vehicle_classification': ['is_valid']}}"
      ]
     },
     "metadata": {},
     "output_type": "display_data"
    },
    {
     "name": "stderr",
     "output_type": "stream",
     "text": [
      "DEBUG:Check the rule is_global_unique\n",
      "DEBUG:Check the rule is_valid for BaseMoving\n",
      "WARNING:The message type 'BaseMoving' has no rule\n",
      "DEBUG:Check the rule is_valid for a list\n",
      "DEBUG:Check the rule is_valid for Identifier\n",
      "DEBUG:Check the rule is_minimum for {'value': [{'is_minimum': 0}]}\n",
      "DEBUG:Check the rule is_valid for VehicleAttributes\n",
      "WARNING:The message type 'VehicleAttributes' has no rule\n",
      "DEBUG:Check the rule is_valid for VehicleClassification\n",
      "WARNING:The message type 'VehicleClassification' has no rule\n"
     ]
    },
    {
     "name": "stdout",
     "output_type": "stream",
     "text": [
      "is_global_unique True\n",
      "is_valid True\n",
      "is_minimum True\n",
      "is_valid False\n",
      "is_valid True\n",
      "is_valid True\n"
     ]
    }
   ],
   "source": [
    "from osi_rule_checker import OsiRuleChecker\n",
    "from osi_validation_rules import OsiValidationRules\n",
    "\n",
    "ovr = OsiValidationRules()\n",
    "ovr.from_yaml_directory('/home/aina/yaml-test/rules')\n",
    "\n",
    "display(ovr._rules)\n",
    "\n",
    "ovr.check_message(mo, ovr._rules['MovingObject'])"
   ]
  },
  {
   "cell_type": "code",
   "execution_count": 22,
   "metadata": {},
   "outputs": [
    {
     "data": {
      "text/plain": [
       "[int]"
      ]
     },
     "execution_count": 22,
     "metadata": {},
     "output_type": "execute_result"
    }
   ],
   "source": [
    "# saved ID\n",
    "list(map(type, ovr._identifiers))"
   ]
  },
  {
   "cell_type": "code",
   "execution_count": null,
   "metadata": {},
   "outputs": [],
   "source": []
  }
 ],
 "metadata": {
  "kernelspec": {
   "display_name": "Python 3",
   "language": "python",
   "name": "python3"
  },
  "language_info": {
   "codemirror_mode": {
    "name": "ipython",
    "version": 3
   },
   "file_extension": ".py",
   "mimetype": "text/x-python",
   "name": "python",
   "nbconvert_exporter": "python",
   "pygments_lexer": "ipython3",
   "version": "3.7.2"
  }
 },
 "nbformat": 4,
 "nbformat_minor": 2
}
